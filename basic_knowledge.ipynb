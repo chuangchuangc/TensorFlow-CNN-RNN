{
 "cells": [
  {
   "cell_type": "markdown",
   "metadata": {},
   "source": [
    "### function"
   ]
  },
  {
   "cell_type": "code",
   "execution_count": 2,
   "metadata": {},
   "outputs": [
    {
     "name": "stdout",
     "output_type": "stream",
     "text": [
      "c: tf.Tensor([1 2 3 4 5], shape=(5,), dtype=int32)\n"
     ]
    }
   ],
   "source": [
    "#where\n",
    "# same as a?b:c\n",
    "import tensorflow as tf\n",
    "a = tf.constant([1, 2, 3, 1, 1])\n",
    "b = tf.constant([0, 1, 3, 4, 5])\n",
    "c = tf.where(tf.greater(a, b), a, b)  # 若a>b，返回a对应位置的元素，否则返回b对应位置的元素\n",
    "print(\"c:\", c)"
   ]
  },
  {
   "cell_type": "code",
   "execution_count": 3,
   "metadata": {},
   "outputs": [
    {
     "name": "stdout",
     "output_type": "stream",
     "text": [
      "a: 0.417022004702574\n",
      "b: [[7.20324493e-01 1.14374817e-04 3.02332573e-01]\n",
      " [1.46755891e-01 9.23385948e-02 1.86260211e-01]]\n"
     ]
    }
   ],
   "source": [
    "# random\n",
    "# 0-1 number\n",
    "import numpy as np\n",
    "rdm = np.random.RandomState(seed=1)\n",
    "a = rdm.rand() # 0-1\n",
    "b = rdm.rand(2, 3) # 0-1\n",
    "print(\"a:\", a)\n",
    "print(\"b:\", b)"
   ]
  },
  {
   "cell_type": "code",
   "execution_count": 4,
   "metadata": {},
   "outputs": [
    {
     "name": "stdout",
     "output_type": "stream",
     "text": [
      "c:\n",
      " [[1 2 3]\n",
      " [4 5 6]]\n"
     ]
    }
   ],
   "source": [
    "# 1*2 -> 2*2\n",
    "import numpy as np\n",
    "a = np.array([1, 2, 3])\n",
    "b = np.array([4, 5, 6])\n",
    "c = np.vstack((a, b))\n",
    "print(\"c:\\n\", c)"
   ]
  },
  {
   "cell_type": "code",
   "execution_count": 8,
   "metadata": {},
   "outputs": [
    {
     "name": "stdout",
     "output_type": "stream",
     "text": [
      "x:\n",
      " [[1. 1. 1. 1.]\n",
      " [2. 2. 2. 2.]]\n",
      "y:\n",
      " [[2.  2.5 3.  3.5]\n",
      " [2.  2.5 3.  3.5]]\n",
      "x.ravel():\n",
      " [1. 1. 1. 1. 2. 2. 2. 2.]\n",
      "y.ravel():\n",
      " [2.  2.5 3.  3.5 2.  2.5 3.  3.5]\n",
      "grid:\n",
      " [[1.  2. ]\n",
      " [1.  2.5]\n",
      " [1.  3. ]\n",
      " [1.  3.5]\n",
      " [2.  2. ]\n",
      " [2.  2.5]\n",
      " [2.  3. ]\n",
      " [2.  3.5]]\n"
     ]
    }
   ],
   "source": [
    "import numpy as np\n",
    "import tensorflow as tf\n",
    "# .rabel-> 1-D data\n",
    "# 生成等间隔数值点\n",
    "x, y = np.mgrid[1:3:1, 2:4:0.5]\n",
    "# 2 number, 4 number -> all 2*4 make sure the same\n",
    "# 将x, y拉直，并合并配对为二维张量，生成二维坐标点\n",
    "grid = np.c_[x.ravel(), y.ravel()]\n",
    "print(\"x:\\n\", x)\n",
    "print(\"y:\\n\", y)\n",
    "print(\"x.ravel():\\n\", x.ravel())\n",
    "print(\"y.ravel():\\n\", y.ravel())\n",
    "print('grid:\\n', grid)"
   ]
  },
  {
   "cell_type": "markdown",
   "metadata": {},
   "source": [
    "### O(n)\n",
    "layer number = hideen layer number + output layer\n",
    "all parameter = all w(a*b)+ all b\n",
    "O(a*b + c*d)"
   ]
  },
  {
   "cell_type": "markdown",
   "metadata": {},
   "source": [
    "### lr"
   ]
  },
  {
   "cell_type": "code",
   "execution_count": 9,
   "metadata": {},
   "outputs": [
    {
     "name": "stdout",
     "output_type": "stream",
     "text": [
      "After 0 epoch,w is 2.600000,loss is 36.000000,lr is 0.200000\n",
      "After 1 epoch,w is 1.174400,loss is 12.959999,lr is 0.198000\n",
      "After 2 epoch,w is 0.321948,loss is 4.728015,lr is 0.196020\n",
      "After 3 epoch,w is -0.191126,loss is 1.747547,lr is 0.194060\n",
      "After 4 epoch,w is -0.501926,loss is 0.654277,lr is 0.192119\n",
      "After 5 epoch,w is -0.691392,loss is 0.248077,lr is 0.190198\n",
      "After 6 epoch,w is -0.807611,loss is 0.095239,lr is 0.188296\n",
      "After 7 epoch,w is -0.879339,loss is 0.037014,lr is 0.186413\n",
      "After 8 epoch,w is -0.923874,loss is 0.014559,lr is 0.184549\n",
      "After 9 epoch,w is -0.951691,loss is 0.005795,lr is 0.182703\n",
      "After 10 epoch,w is -0.969167,loss is 0.002334,lr is 0.180876\n",
      "After 11 epoch,w is -0.980209,loss is 0.000951,lr is 0.179068\n",
      "After 12 epoch,w is -0.987226,loss is 0.000392,lr is 0.177277\n",
      "After 13 epoch,w is -0.991710,loss is 0.000163,lr is 0.175504\n",
      "After 14 epoch,w is -0.994591,loss is 0.000069,lr is 0.173749\n",
      "After 15 epoch,w is -0.996452,loss is 0.000029,lr is 0.172012\n",
      "After 16 epoch,w is -0.997660,loss is 0.000013,lr is 0.170292\n",
      "After 17 epoch,w is -0.998449,loss is 0.000005,lr is 0.168589\n",
      "After 18 epoch,w is -0.998967,loss is 0.000002,lr is 0.166903\n",
      "After 19 epoch,w is -0.999308,loss is 0.000001,lr is 0.165234\n",
      "After 20 epoch,w is -0.999535,loss is 0.000000,lr is 0.163581\n",
      "After 21 epoch,w is -0.999685,loss is 0.000000,lr is 0.161946\n",
      "After 22 epoch,w is -0.999786,loss is 0.000000,lr is 0.160326\n",
      "After 23 epoch,w is -0.999854,loss is 0.000000,lr is 0.158723\n",
      "After 24 epoch,w is -0.999900,loss is 0.000000,lr is 0.157136\n",
      "After 25 epoch,w is -0.999931,loss is 0.000000,lr is 0.155564\n",
      "After 26 epoch,w is -0.999952,loss is 0.000000,lr is 0.154009\n",
      "After 27 epoch,w is -0.999967,loss is 0.000000,lr is 0.152469\n",
      "After 28 epoch,w is -0.999977,loss is 0.000000,lr is 0.150944\n",
      "After 29 epoch,w is -0.999984,loss is 0.000000,lr is 0.149434\n",
      "After 30 epoch,w is -0.999989,loss is 0.000000,lr is 0.147940\n",
      "After 31 epoch,w is -0.999992,loss is 0.000000,lr is 0.146461\n",
      "After 32 epoch,w is -0.999994,loss is 0.000000,lr is 0.144996\n",
      "After 33 epoch,w is -0.999996,loss is 0.000000,lr is 0.143546\n",
      "After 34 epoch,w is -0.999997,loss is 0.000000,lr is 0.142111\n",
      "After 35 epoch,w is -0.999998,loss is 0.000000,lr is 0.140690\n",
      "After 36 epoch,w is -0.999999,loss is 0.000000,lr is 0.139283\n",
      "After 37 epoch,w is -0.999999,loss is 0.000000,lr is 0.137890\n",
      "After 38 epoch,w is -0.999999,loss is 0.000000,lr is 0.136511\n",
      "After 39 epoch,w is -0.999999,loss is 0.000000,lr is 0.135146\n"
     ]
    }
   ],
   "source": [
    "import tensorflow as tf\n",
    "w = tf.Variable(tf.constant(5, dtype=tf.float32))\n",
    "epoch = 40\n",
    "LR_BASE = 0.2  # 最初学习率\n",
    "LR_DECAY = 0.99  # 学习率衰减率\n",
    "LR_STEP = 1  # 喂入多少轮BATCH_SIZE后，更新一次学习率\n",
    "\n",
    "for epoch in range(epoch):  # for epoch 定义顶层循环，表示对数据集循环epoch次，此例数据集数据仅有1个w,初始化时候constant赋值为5，循环100次迭代。\n",
    "    # update lr!!!!\n",
    "    lr = LR_BASE * LR_DECAY ** (epoch / LR_STEP)\n",
    "    with tf.GradientTape() as tape:  # with结构到grads框起了梯度的计算过程。\n",
    "        loss = tf.square(w + 1)\n",
    "    grads = tape.gradient(loss, w)  # .gradient函数告知谁对谁求导\n",
    "\n",
    "    w.assign_sub(lr * grads)  # .assign_sub 对变量做自减 即：w -= lr*grads 即 w = w - lr*grads\n",
    "    print(\"After %s epoch,w is %f,loss is %f,lr is %f\" % (epoch, w.numpy(), loss, lr))\n"
   ]
  },
  {
   "cell_type": "markdown",
   "metadata": {},
   "source": [
    "### sigmoid : 1/1+e^-x : gradient disapear, time long\n",
    "### relu : max(x,0) sometimes can't be active, often used\n",
    "### leaky relu max(ax,x) used not often"
   ]
  },
  {
   "cell_type": "markdown",
   "metadata": {},
   "source": [
    "### Mse"
   ]
  },
  {
   "cell_type": "code",
   "execution_count": 12,
   "metadata": {},
   "outputs": [
    {
     "name": "stdout",
     "output_type": "stream",
     "text": [
      "After 0 training steps,w1 is \n",
      "[[-0.20658986]\n",
      " [ 0.00788221]] \n",
      "\n",
      "After 500 training steps,w1 is \n",
      "[[0.50298166]\n",
      " [0.7459474 ]] \n",
      "\n",
      "After 1000 training steps,w1 is \n",
      "[[0.7584129 ]\n",
      " [0.97910804]] \n",
      "\n",
      "After 1500 training steps,w1 is \n",
      "[[0.85817075]\n",
      " [1.0452578 ]] \n",
      "\n",
      "After 2000 training steps,w1 is \n",
      "[[0.90311074]\n",
      " [1.0574758 ]] \n",
      "\n",
      "After 2500 training steps,w1 is \n",
      "[[0.9275753]\n",
      " [1.0533679]] \n",
      "\n",
      "After 3000 training steps,w1 is \n",
      "[[0.9434762]\n",
      " [1.0452478]] \n",
      "\n",
      "After 3500 training steps,w1 is \n",
      "[[0.95511955]\n",
      " [1.0369942 ]] \n",
      "\n",
      "After 4000 training steps,w1 is \n",
      "[[0.96419907]\n",
      " [1.0296872 ]] \n",
      "\n",
      "After 4500 training steps,w1 is \n",
      "[[0.9714882]\n",
      " [1.023513 ]] \n",
      "\n",
      "Final w1 is:  [[0.9774035]\n",
      " [1.0183977]]\n"
     ]
    }
   ],
   "source": [
    "import tensorflow as tf\n",
    "import numpy as np\n",
    "SEED = 23455\n",
    "rdm = np.random.RandomState(seed=SEED)  # 生成[0,1)之间的随机数\n",
    "x = rdm.rand(32, 2)\n",
    "# 32*2\n",
    "y_ = [[x1 + x2 + (rdm.rand() / 10.0 - 0.05)] for (x1, x2) in x]  # 生成噪声[0,1)/10=[0,0.1); [0,0.1)-0.05=[-0.05,0.05)\n",
    "# random\n",
    "x = tf.cast(x, dtype=tf.float32)\n",
    "# w1 : feature:2, output:1\n",
    "w1 = tf.Variable(tf.random.normal([2, 1], stddev=1, seed=1))\n",
    "\n",
    "epoch = 5000\n",
    "lr = 0.002\n",
    "\n",
    "for epoch in range(epoch):\n",
    "    with tf.GradientTape() as tape:\n",
    "        y = tf.matmul(x, w1)\n",
    "        # mes!!!! mean of square\n",
    "        loss_mse = tf.reduce_mean(tf.square(y_ - y))\n",
    "    grads = tape.gradient(loss_mse, w1)\n",
    "    # update w1\n",
    "    w1.assign_sub(lr * grads)\n",
    "\n",
    "    if epoch % 500 == 0:\n",
    "        print(\"After %d training steps,w1 is \" % (epoch))\n",
    "        print(w1.numpy(), \"\\n\")\n",
    "print(\"Final w1 is: \", w1.numpy())"
   ]
  },
  {
   "cell_type": "code",
   "execution_count": null,
   "metadata": {},
   "outputs": [],
   "source": [
    "# define loss\n",
    "# want to make y larger\n",
    "# try to make loss smaller !!!!"
   ]
  },
  {
   "cell_type": "code",
   "execution_count": 14,
   "metadata": {},
   "outputs": [
    {
     "name": "stdout",
     "output_type": "stream",
     "text": [
      "After 0 training steps,w1 is \n",
      "[[1.3827158]\n",
      " [3.462622 ]] \n",
      "\n",
      "After 500 training steps,w1 is \n",
      "[[1.121139 ]\n",
      " [1.0836719]] \n",
      "\n",
      "After 1000 training steps,w1 is \n",
      "[[1.1115193]\n",
      " [1.114956 ]] \n",
      "\n",
      "After 1500 training steps,w1 is \n",
      "[[1.1605326]\n",
      " [1.1575329]] \n",
      "\n",
      "After 2000 training steps,w1 is \n",
      "[[1.1300945]\n",
      " [1.0123466]] \n",
      "\n",
      "After 2500 training steps,w1 is \n",
      "[[1.1204747]\n",
      " [1.0436306]] \n",
      "\n",
      "Final w1 is:  [[1.1219323]\n",
      " [1.0976768]]\n"
     ]
    }
   ],
   "source": [
    "import tensorflow as tf\n",
    "import numpy as np\n",
    "\n",
    "SEED = 23455\n",
    "COST = 1\n",
    "PROFIT = 99\n",
    "rdm = np.random.RandomState(SEED)\n",
    "x = rdm.rand(32, 2)\n",
    "y_ = [[x1 + x2 + (rdm.rand() / 10.0 - 0.05)] for (x1, x2) in x]  # 生成噪声[0,1)/10=[0,0.1); [0,0.1)-0.05=[-0.05,0.05)\n",
    "x = tf.cast(x, dtype=tf.float32)\n",
    "w1 = tf.Variable(tf.random.normal([2, 1], stddev=1, seed=1))\n",
    "epoch = 3000\n",
    "lr = 0.002\n",
    "for epoch in range(epoch):\n",
    "    with tf.GradientTape() as tape:\n",
    "        y = tf.matmul(x, w1)\n",
    "        # loss: if greater, loss smaller\n",
    "        # want to make number greater\n",
    "        loss = tf.reduce_sum(tf.where(tf.greater(y, y_), (y - y_) * COST, (y_ - y) * PROFIT))\n",
    "\n",
    "    grads = tape.gradient(loss, w1)\n",
    "    w1.assign_sub(lr * grads)\n",
    "\n",
    "    if epoch % 500 == 0:\n",
    "        print(\"After %d training steps,w1 is \" % (epoch))\n",
    "        print(w1.numpy(), \"\\n\")\n",
    "print(\"Final w1 is: \", w1.numpy())\n",
    "\n",
    "# 自定义损失函数\n",
    "# 酸奶成本1元， 酸奶利润99元\n",
    "# 成本很低，利润很高，人们希望多预测些，生成模型系数大于1，往多了预测\n"
   ]
  },
  {
   "cell_type": "code",
   "execution_count": 16,
   "metadata": {},
   "outputs": [
    {
     "name": "stdout",
     "output_type": "stream",
     "text": [
      "loss_ce1: tf.Tensor(0.5108256, shape=(), dtype=float32)\n",
      "loss_ce2: tf.Tensor(0.22314353, shape=(), dtype=float32)\n"
     ]
    }
   ],
   "source": [
    "## ce !!\n",
    "import tensorflow as tf\n",
    "\n",
    "loss_ce1 = tf.losses.categorical_crossentropy([1, 0], [0.6, 0.4])\n",
    "loss_ce2 = tf.losses.categorical_crossentropy([1, 0], [0.8, 0.2])\n",
    "print(\"loss_ce1:\", loss_ce1)\n",
    "print(\"loss_ce2:\", loss_ce2)\n",
    "# h2 better, for lower loss"
   ]
  },
  {
   "cell_type": "markdown",
   "metadata": {},
   "source": [
    "### .softmax_cross_entropy_with_logits\n",
    "softmax + ce"
   ]
  },
  {
   "cell_type": "code",
   "execution_count": 17,
   "metadata": {},
   "outputs": [
    {
     "name": "stdout",
     "output_type": "stream",
     "text": [
      "分步计算的结果:\n",
      " tf.Tensor(\n",
      "[1.68795487e-04 1.03475622e-03 6.58839038e-02 2.58349207e+00\n",
      " 5.49852354e-02], shape=(5,), dtype=float64)\n",
      "结合计算的结果:\n",
      " tf.Tensor(\n",
      "[1.68795487e-04 1.03475622e-03 6.58839038e-02 2.58349207e+00\n",
      " 5.49852354e-02], shape=(5,), dtype=float64)\n"
     ]
    }
   ],
   "source": [
    "y_ = np.array([[1, 0, 0], [0, 1, 0], [0, 0, 1], [1, 0, 0], [0, 1, 0]])\n",
    "y = np.array([[12, 3, 2], [3, 10, 1], [1, 2, 5], [4, 6.5, 1.2], [3, 6, 1]])\n",
    "y_pro = tf.nn.softmax(y)\n",
    "loss_ce1 = tf.losses.categorical_crossentropy(y_,y_pro)\n",
    "loss_ce2 = tf.nn.softmax_cross_entropy_with_logits(y_, y)\n",
    "\n",
    "print('分步计算的结果:\\n', loss_ce1)\n",
    "print('结合计算的结果:\\n', loss_ce2)"
   ]
  },
  {
   "cell_type": "markdown",
   "metadata": {},
   "source": [
    "### deal with overfitting\n",
    "loss + complex regularization"
   ]
  },
  {
   "cell_type": "code",
   "execution_count": 18,
   "metadata": {},
   "outputs": [
    {
     "name": "stdout",
     "output_type": "stream",
     "text": [
      "epoch: 0 loss: 0.9357479214668274\n",
      "epoch: 20 loss: 0.05441431328654289\n",
      "epoch: 40 loss: 0.030326634645462036\n",
      "epoch: 60 loss: 0.025496765971183777\n",
      "epoch: 80 loss: 0.023502906784415245\n",
      "epoch: 100 loss: 0.02217431366443634\n",
      "epoch: 120 loss: 0.021319428458809853\n",
      "epoch: 140 loss: 0.019943276420235634\n",
      "epoch: 160 loss: 0.018852097913622856\n",
      "epoch: 180 loss: 0.018248235806822777\n",
      "epoch: 200 loss: 0.01770571433007717\n",
      "epoch: 220 loss: 0.01737459935247898\n",
      "epoch: 240 loss: 0.017194198444485664\n",
      "epoch: 260 loss: 0.017022008076310158\n",
      "epoch: 280 loss: 0.016886098310351372\n",
      "epoch: 300 loss: 0.016781089827418327\n",
      "epoch: 320 loss: 0.01662573404610157\n",
      "epoch: 340 loss: 0.01652849279344082\n",
      "epoch: 360 loss: 0.01647970639169216\n",
      "epoch: 380 loss: 0.01642131619155407\n",
      "*******predict*******\n"
     ]
    },
    {
     "data": {
      "image/png": "[encoded data removed]",
      "text/plain": [
       "<Figure size 432x288 with 1 Axes>"
      ]
     },
     "metadata": {
      "needs_background": "light"
     },
     "output_type": "display_data"
    }
   ],
   "source": [
    "# 导入所需模块\n",
    "import tensorflow as tf\n",
    "from matplotlib import pyplot as plt\n",
    "import numpy as np\n",
    "import pandas as pd\n",
    "\n",
    "# 读入数据/标签 生成x_train y_train\n",
    "df = pd.read_csv('dot.csv')\n",
    "x_data = np.array(df[['x1', 'x2']])\n",
    "y_data = np.array(df['y_c'])\n",
    "\n",
    "x_train = np.vstack(x_data).reshape(-1,2)\n",
    "y_train = np.vstack(y_data).reshape(-1,1)\n",
    "\n",
    "Y_c = [['red' if y else 'blue'] for y in y_train]\n",
    "\n",
    "# 转换x的数据类型，否则后面矩阵相乘时会因数据类型问题报错\n",
    "x_train = tf.cast(x_train, tf.float32)\n",
    "y_train = tf.cast(y_train, tf.float32)\n",
    "\n",
    "# from_tensor_slices函数切分传入的张量的第一个维度，生成相应的数据集，使输入特征和标签值一一对应\n",
    "train_db = tf.data.Dataset.from_tensor_slices((x_train, y_train)).batch(32)\n",
    "\n",
    "# 生成神经网络的参数，输入层为2个神经元，隐藏层为11个神经元，1层隐藏层，输出层为1个神经元\n",
    "# 用tf.Variable()保证参数可训练\n",
    "w1 = tf.Variable(tf.random.normal([2, 11]), dtype=tf.float32)\n",
    "b1 = tf.Variable(tf.constant(0.01, shape=[11]))\n",
    "\n",
    "w2 = tf.Variable(tf.random.normal([11, 1]), dtype=tf.float32)\n",
    "b2 = tf.Variable(tf.constant(0.01, shape=[1]))\n",
    "\n",
    "lr = 0.01  # 学习率\n",
    "epoch = 400  # 循环轮数\n",
    "\n",
    "# 训练部分\n",
    "for epoch in range(epoch):\n",
    "    # back \n",
    "    for step, (x_train, y_train) in enumerate(train_db):\n",
    "        # forward\n",
    "        with tf.GradientTape() as tape:  # 记录梯度信息\n",
    "            h1 = tf.matmul(x_train, w1) + b1  # 记录神经网络乘加运算\n",
    "            # active then to next\n",
    "            h1 = tf.nn.relu(h1)\n",
    "            y = tf.matmul(h1, w2) + b2\n",
    "\n",
    "            # 采用均方误差损失函数mse = mean(sum(y-out)^2)\n",
    "            loss = tf.reduce_mean(tf.square(y_train - y))\n",
    "\n",
    "        # 计算loss对各个参数的梯度\n",
    "        variables = [w1, b1, w2, b2]\n",
    "        grads = tape.gradient(loss, variables)\n",
    "\n",
    "        # 实现梯度更新\n",
    "        # w1 = w1 - lr * w1_grad tape.gradient是自动求导结果与[w1, b1, w2, b2] 索引为0，1，2，3 \n",
    "        w1.assign_sub(lr * grads[0])\n",
    "        b1.assign_sub(lr * grads[1])\n",
    "        w2.assign_sub(lr * grads[2])\n",
    "        b2.assign_sub(lr * grads[3])\n",
    "\n",
    "    # 每20个epoch，打印loss信息\n",
    "    if epoch % 20 == 0:\n",
    "        print('epoch:', epoch, 'loss:', float(loss))\n",
    "\n",
    "# 预测部分\n",
    "print(\"*******predict*******\")\n",
    "# xx在-3到3之间以步长为0.01，yy在-3到3之间以步长0.01,生成间隔数值点\n",
    "xx, yy = np.mgrid[-3:3:.1, -3:3:.1]\n",
    "# 将xx , yy拉直，并合并配对为二维张量，生成二维坐标点\n",
    "grid = np.c_[xx.ravel(), yy.ravel()]\n",
    "grid = tf.cast(grid, tf.float32)\n",
    "# 将网格坐标点喂入神经网络，进行预测，probs为输出\n",
    "probs = []\n",
    "for x_test in grid:\n",
    "    # 使用训练好的参数进行预测\n",
    "    h1 = tf.matmul([x_test], w1) + b1\n",
    "    h1 = tf.nn.relu(h1)\n",
    "    y = tf.matmul(h1, w2) + b2  # y为预测结果\n",
    "    probs.append(y)\n",
    "\n",
    "# 取第0列给x1，取第1列给x2\n",
    "x1 = x_data[:, 0]\n",
    "x2 = x_data[:, 1]\n",
    "# probs的shape调整成xx的样子\n",
    "probs = np.array(probs).reshape(xx.shape)\n",
    "plt.scatter(x1, x2, color=np.squeeze(Y_c)) #squeeze去掉纬度是1的纬度,相当于去掉[['red'],[''blue]],内层括号变为['red','blue']\n",
    "# 把坐标xx yy和对应的值probs放入contour<[‘kɑntʊr]>函数，给probs值为0.5的所有点上色  plt点show后 显示的是红蓝点的分界线\n",
    "plt.contour(xx, yy, probs, levels=[.5])\n",
    "plt.show()\n",
    "\n",
    "# 读入红蓝点，画出分割线，不包含正则化\n",
    "# 不清楚的数据，建议print出来查看 "
   ]
  },
  {
   "cell_type": "markdown",
   "metadata": {},
   "source": [
    "### optimization"
   ]
  },
  {
   "cell_type": "code",
   "execution_count": null,
   "metadata": {},
   "outputs": [],
   "source": [
    "# SGD \n",
    "loss = tf.reduce_mean(tf.square(y_ - y))  # 采用均方误差损失函数mse = mean(sum(y-out)^2)\n",
    "        # 计算loss对各个参数的梯度\n",
    "grads = tape.gradient(loss, [w1, b1])\n",
    "\n",
    "        # 实现梯度更新 w1 = w1 - lr * w1_grad    b = b - lr * b_grad\n",
    "w1.assign_sub(lr * grads[0])  # 参数w1自更新\n",
    "b1.assign_sub(lr * grads[1])  # 参数b自更新"
   ]
  },
  {
   "cell_type": "code",
   "execution_count": null,
   "metadata": {},
   "outputs": [],
   "source": [
    "# SGDM\n",
    "m_w, m_b = 0, 0\n",
    "beta = 0.9\n",
    "# sgd-momentun  \n",
    "# sub grades + m_w\n",
    "m_w = beta * m_w + (1 - beta) * grads[0]\n",
    "m_b = beta * m_b + (1 - beta) * grads[1]\n",
    "w1.assign_sub(lr * m_w)\n",
    "b1.assign_sub(lr * m_b)"
   ]
  },
  {
   "cell_type": "code",
   "execution_count": null,
   "metadata": {},
   "outputs": [],
   "source": [
    "# adagrad\n",
    "v_w, v_b = 0, 0\n",
    "v_w += tf.square(grads[0]) # sum of square\n",
    "v_b += tf.square(grads[1])\n",
    "w1.assign_sub(lr * grads[0] / tf.sqrt(v_w)) # /sqrt(sum of squre)\n",
    "b1.assign_sub(lr * grads[1] / tf.sqrt(v_b))"
   ]
  },
  {
   "cell_type": "code",
   "execution_count": null,
   "metadata": {},
   "outputs": [],
   "source": [
    "#RMSProp\n",
    "v_w, v_b = 0, 0\n",
    "beta = 0.9\n",
    "v_w = beta * v_w + (1 - beta) * tf.square(grads[0]) # use square, not just\n",
    "v_b = beta * v_b + (1 - beta) * tf.square(grads[1])\n",
    "w1.assign_sub(lr * grads[0] / tf.sqrt(v_w))\n",
    "b1.assign_sub(lr * grads[1] / tf.sqrt(v_b))"
   ]
  },
  {
   "cell_type": "code",
   "execution_count": null,
   "metadata": {},
   "outputs": [],
   "source": [
    "#adam\n",
    "m_w = beta1 * m_w + (1 - beta1) * grads[0]\n",
    "m_b = beta1 * m_b + (1 - beta1) * grads[1]\n",
    "v_w = beta2 * v_w + (1 - beta2) * tf.square(grads[0])\n",
    "v_b = beta2 * v_b + (1 - beta2) * tf.square(grads[1])\n",
    "\n",
    "m_w_correction = m_w / (1 - tf.pow(beta1, int(global_step)))\n",
    "m_b_correction = m_b / (1 - tf.pow(beta1, int(global_step)))\n",
    "v_w_correction = v_w / (1 - tf.pow(beta2, int(global_step)))\n",
    "v_b_correction = v_b / (1 - tf.pow(beta2, int(global_step)))\n",
    "\n",
    "w1.assign_sub(lr * m_w_correction / tf.sqrt(v_w_correction))\n",
    "b1.assign_sub(lr * m_b_correction / tf.sqrt(v_b_correction))"
   ]
  }
 ],
 "metadata": {
  "interpreter": {
   "hash": "78431bbffb395ae8df1eebd6ffd005e9beb8cf9ce4bfad9a94a8db8fdf3c3aa2"
  },
  "kernelspec": {
   "display_name": "Python 3.9.12 ('base')",
   "language": "python",
   "name": "python3"
  },
  "language_info": {
   "codemirror_mode": {
    "name": "ipython",
    "version": 3
   },
   "file_extension": ".py",
   "mimetype": "text/x-python",
   "name": "python",
   "nbconvert_exporter": "python",
   "pygments_lexer": "ipython3",
   "version": "3.9.12"
  },
  "orig_nbformat": 4
 },
 "nbformat": 4,
 "nbformat_minor": 2
}
