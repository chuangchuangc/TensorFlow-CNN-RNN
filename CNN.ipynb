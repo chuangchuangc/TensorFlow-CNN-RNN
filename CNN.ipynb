{
 "cells": [
  {
   "cell_type": "markdown",
   "metadata": {},
   "source": [
    "#### receptive field\n",
    "3*3 -> 1 field:3\n",
    "5*5 -> 1 field:5\n",
    "which is better?\n",
    "2 2*3 or 1 5*5\n",
    "parameter: 6+9 vs 25\n",
    "time: 18^2 vs 25^2 -> so always use 2 3*3 instead of 1 5*5"
   ]
  },
  {
   "cell_type": "markdown",
   "metadata": {},
   "source": [
    "#### fill original's edge with 0 -> padding='SAME'(0 padding), 'VALID'\n",
    "so after 3*3 size ont change"
   ]
  },
  {
   "cell_type": "code",
   "execution_count": null,
   "metadata": {},
   "outputs": [],
   "source": [
    "# tf.keras.layers.Conv2D(\n",
    "# number\n",
    "# size\n",
    "# step\n",
    "# padding or not\n",
    "# activation (if BN,not))"
   ]
  },
  {
   "cell_type": "markdown",
   "metadata": {},
   "source": [
    "#### BN -> normalization\n",
    "BatchNormalization()"
   ]
  },
  {
   "cell_type": "markdown",
   "metadata": {},
   "source": [
    "#### pooling \n",
    "reduce features -> max/min, max not keeep background\n",
    "MaxPool2D(size,strides,padding)\n",
    "#### drop -> not overfitting\n",
    "dropout(0.n) - > drop n% neural\n",
    "####\n",
    "conv->bn->activiation->pooling->fc\n",
    "con is feature selection CBAPD"
   ]
  },
  {
   "cell_type": "code",
   "execution_count": 1,
   "metadata": {},
   "outputs": [
    {
     "name": "stderr",
     "output_type": "stream",
     "text": [
      "2022-11-01 23:12:06.463105: I tensorflow/core/platform/cpu_feature_guard.cc:193] This TensorFlow binary is optimized with oneAPI Deep Neural Network Library (oneDNN) to use the following CPU instructions in performance-critical operations:  AVX2 FMA\n",
      "To enable them in other operations, rebuild TensorFlow with the appropriate compiler flags.\n",
      "2022-11-01 23:12:10.033817: E tensorflow/stream_executor/cuda/cuda_blas.cc:2981] Unable to register cuBLAS factory: Attempting to register factory for plugin cuBLAS when one has already been registered\n",
      "2022-11-01 23:12:17.521715: W tensorflow/stream_executor/platform/default/dso_loader.cc:64] Could not load dynamic library 'libnvinfer.so.7'; dlerror: libnvinfer.so.7: cannot open shared object file: No such file or directory\n",
      "2022-11-01 23:12:17.522269: W tensorflow/stream_executor/platform/default/dso_loader.cc:64] Could not load dynamic library 'libnvinfer_plugin.so.7'; dlerror: libnvinfer_plugin.so.7: cannot open shared object file: No such file or directory\n",
      "2022-11-01 23:12:17.522320: W tensorflow/compiler/tf2tensorrt/utils/py_utils.cc:38] TF-TRT Warning: Cannot dlopen some TensorRT libraries. If you would like to use Nvidia GPU with TensorRT, please make sure the missing libraries mentioned above are installed properly.\n"
     ]
    },
    {
     "name": "stdout",
     "output_type": "stream",
     "text": [
      "Downloading data from https://www.cs.toronto.edu/~kriz/cifar-10-python.tar.gz\n",
      "170498071/170498071 [==============================] - 26s 0us/step\n"
     ]
    },
    {
     "name": "stderr",
     "output_type": "stream",
     "text": [
      "2022-11-01 23:12:58.520370: W tensorflow/stream_executor/platform/default/dso_loader.cc:64] Could not load dynamic library 'libcuda.so.1'; dlerror: libcuda.so.1: cannot open shared object file: No such file or directory\n",
      "2022-11-01 23:12:58.520412: W tensorflow/stream_executor/cuda/cuda_driver.cc:263] failed call to cuInit: UNKNOWN ERROR (303)\n",
      "2022-11-01 23:12:58.520439: I tensorflow/stream_executor/cuda/cuda_diagnostics.cc:156] kernel driver does not appear to be running on this host (cc-ThinkPad-T470): /proc/driver/nvidia/version does not exist\n",
      "2022-11-01 23:12:58.520817: I tensorflow/core/platform/cpu_feature_guard.cc:193] This TensorFlow binary is optimized with oneAPI Deep Neural Network Library (oneDNN) to use the following CPU instructions in performance-critical operations:  AVX2 FMA\n",
      "To enable them in other operations, rebuild TensorFlow with the appropriate compiler flags.\n",
      "2022-11-01 23:12:59.314570: W tensorflow/core/framework/cpu_allocator_impl.cc:82] Allocation of 614400000 exceeds 10% of free system memory.\n"
     ]
    },
    {
     "name": "stdout",
     "output_type": "stream",
     "text": [
      "Epoch 1/2\n",
      "1562/1563 [============================>.] - ETA: 0s - loss: 1.6245 - sparse_categorical_accuracy: 0.4100"
     ]
    },
    {
     "name": "stderr",
     "output_type": "stream",
     "text": [
      "2022-11-01 23:13:41.955052: W tensorflow/core/framework/cpu_allocator_impl.cc:82] Allocation of 122880000 exceeds 10% of free system memory.\n"
     ]
    },
    {
     "name": "stdout",
     "output_type": "stream",
     "text": [
      "1563/1563 [==============================] - 45s 28ms/step - loss: 1.6244 - sparse_categorical_accuracy: 0.4100 - val_loss: 1.4475 - val_sparse_categorical_accuracy: 0.4931\n",
      "Epoch 2/2\n",
      "1563/1563 [==============================] - 44s 28ms/step - loss: 1.3988 - sparse_categorical_accuracy: 0.4981 - val_loss: 1.3079 - val_sparse_categorical_accuracy: 0.5294\n",
      "Model: \"baseline\"\n",
      "_________________________________________________________________\n",
      " Layer (type)                Output Shape              Param #   \n",
      "=================================================================\n",
      " conv2d (Conv2D)             multiple                  456       \n",
      "                                                                 \n",
      " batch_normalization (BatchN  multiple                 24        \n",
      " ormalization)                                                   \n",
      "                                                                 \n",
      " activation (Activation)     multiple                  0         \n",
      "                                                                 \n",
      " max_pooling2d (MaxPooling2D  multiple                 0         \n",
      " )                                                               \n",
      "                                                                 \n",
      " dropout (Dropout)           multiple                  0         \n",
      "                                                                 \n",
      " flatten (Flatten)           multiple                  0         \n",
      "                                                                 \n",
      " dense (Dense)               multiple                  196736    \n",
      "                                                                 \n",
      " dropout_1 (Dropout)         multiple                  0         \n",
      "                                                                 \n",
      " dense_1 (Dense)             multiple                  1290      \n",
      "                                                                 \n",
      "=================================================================\n",
      "Total params: 198,506\n",
      "Trainable params: 198,494\n",
      "Non-trainable params: 12\n",
      "_________________________________________________________________\n"
     ]
    },
    {
     "data": {
      "image/png": "[encoded data removed]",
      "text/plain": [
       "<Figure size 432x288 with 2 Axes>"
      ]
     },
     "metadata": {
      "needs_background": "light"
     },
     "output_type": "display_data"
    }
   ],
   "source": [
    "import tensorflow as tf\n",
    "import os\n",
    "import numpy as np\n",
    "from matplotlib import pyplot as plt\n",
    "from tensorflow.keras.layers import Conv2D, BatchNormalization, Activation, MaxPool2D, Dropout, Flatten, Dense\n",
    "from tensorflow.keras import Model\n",
    "\n",
    "np.set_printoptions(threshold=np.inf)\n",
    "\n",
    "cifar10 = tf.keras.datasets.cifar10\n",
    "(x_train, y_train), (x_test, y_test) = cifar10.load_data()\n",
    "x_train, x_test = x_train / 255.0, x_test / 255.0\n",
    "\n",
    "\n",
    "class Baseline(Model):\n",
    "    def __init__(self):\n",
    "        super(Baseline, self).__init__()\n",
    "        #CBAPD\n",
    "        self.c1 = Conv2D(filters=6, \n",
    "        kernel_size=(5, 5), padding='same')  # 卷积层\n",
    "        self.b1 = BatchNormalization()  # BN层\n",
    "        self.a1 = Activation('relu')  # 激活层\n",
    "        self.p1 = MaxPool2D(pool_size=(2, 2), strides=2, padding='same')  # 池化层\n",
    "        self.d1 = Dropout(0.2)  # dropout层\n",
    "\n",
    "        self.flatten = Flatten()\n",
    "        self.f1 = Dense(128, activation='relu')\n",
    "        self.d2 = Dropout(0.2)\n",
    "        self.f2 = Dense(10, activation='softmax')\n",
    "\n",
    "    def call(self, x):\n",
    "        x = self.c1(x)\n",
    "        x = self.b1(x)\n",
    "        x = self.a1(x)\n",
    "        x = self.p1(x)\n",
    "        x = self.d1(x)\n",
    "\n",
    "        x = self.flatten(x)\n",
    "        x = self.f1(x)\n",
    "        x = self.d2(x)\n",
    "        y = self.f2(x)\n",
    "        return y\n",
    "\n",
    "\n",
    "model = Baseline()\n",
    "\n",
    "model.compile(optimizer='adam',\n",
    "              loss=tf.keras.losses.SparseCategoricalCrossentropy(from_logits=False),\n",
    "              metrics=['sparse_categorical_accuracy'])\n",
    "\n",
    "checkpoint_save_path = \"./checkpoint/Baseline.ckpt\"\n",
    "if os.path.exists(checkpoint_save_path + '.index'):\n",
    "    print('-------------load the model-----------------')\n",
    "    model.load_weights(checkpoint_save_path)\n",
    "\n",
    "cp_callback = tf.keras.callbacks.ModelCheckpoint(filepath=checkpoint_save_path,\n",
    "                                                 save_weights_only=True,\n",
    "                                                 save_best_only=True)\n",
    "\n",
    "history = model.fit(x_train, y_train, batch_size=32, epochs=2, validation_data=(x_test, y_test), validation_freq=1,\n",
    "                    callbacks=[cp_callback])\n",
    "model.summary()\n",
    "\n",
    "# print(model.trainable_variables)\n",
    "file = open('./weights.txt', 'w')\n",
    "for v in model.trainable_variables:\n",
    "    file.write(str(v.name) + '\\n')\n",
    "    file.write(str(v.shape) + '\\n')\n",
    "    file.write(str(v.numpy()) + '\\n')\n",
    "file.close()\n",
    "\n",
    "###############################################    show   ###############################################\n",
    "\n",
    "# 显示训练集和验证集的acc和loss曲线\n",
    "acc = history.history['sparse_categorical_accuracy']\n",
    "val_acc = history.history['val_sparse_categorical_accuracy']\n",
    "loss = history.history['loss']\n",
    "val_loss = history.history['val_loss']\n",
    "\n",
    "plt.subplot(1, 2, 1)\n",
    "plt.plot(acc, label='Training Accuracy')\n",
    "plt.plot(val_acc, label='Validation Accuracy')\n",
    "plt.title('Training and Validation Accuracy')\n",
    "plt.legend()\n",
    "\n",
    "plt.subplot(1, 2, 2)\n",
    "plt.plot(loss, label='Training Loss')\n",
    "plt.plot(val_loss, label='Validation Loss')\n",
    "plt.title('Training and Validation Loss')\n",
    "plt.legend()\n",
    "plt.show()"
   ]
  },
  {
   "cell_type": "markdown",
   "metadata": {},
   "source": [
    "#### lenet"
   ]
  },
  {
   "cell_type": "code",
   "execution_count": null,
   "metadata": {},
   "outputs": [],
   "source": [
    "class LeNet5(Model):\n",
    "    def __init__(self):\n",
    "        super(LeNet5, self).__init__()\n",
    "        self.c1 = Conv2D(filters=6, kernel_size=(5, 5),\n",
    "                         activation='sigmoid')\n",
    "        self.p1 = MaxPool2D(pool_size=(2, 2), strides=2)\n",
    "\n",
    "        self.c2 = Conv2D(filters=16, kernel_size=(5, 5),\n",
    "                         activation='sigmoid')\n",
    "        self.p2 = MaxPool2D(pool_size=(2, 2), strides=2)\n",
    "\n",
    "        self.flatten = Flatten()\n",
    "        self.f1 = Dense(120, activation='sigmoid')\n",
    "        self.f2 = Dense(84, activation='sigmoid')\n",
    "        self.f3 = Dense(10, activation='softmax')\n",
    "\n",
    "    def call(self, x):\n",
    "        x = self.c1(x)\n",
    "        x = self.p1(x)\n",
    "\n",
    "        x = self.c2(x)\n",
    "        x = self.p2(x)\n",
    "\n",
    "        x = self.flatten(x)\n",
    "        x = self.f1(x)\n",
    "        x = self.f2(x)\n",
    "        y = self.f3(x)\n",
    "        return y"
   ]
  },
  {
   "cell_type": "markdown",
   "metadata": {},
   "source": [
    "#### alexNet"
   ]
  },
  {
   "cell_type": "code",
   "execution_count": null,
   "metadata": {},
   "outputs": [],
   "source": [
    "# 8 leayer\n",
    "class AlexNet8(Model):\n",
    "    def __init__(self):\n",
    "        super(AlexNet8, self).__init__()\n",
    "        self.c1 = Conv2D(filters=96, kernel_size=(3, 3))\n",
    "        self.b1 = BatchNormalization()\n",
    "        self.a1 = Activation('relu')\n",
    "        self.p1 = MaxPool2D(pool_size=(3, 3), strides=2)\n",
    "\n",
    "        self.c2 = Conv2D(filters=256, kernel_size=(3, 3))\n",
    "        self.b2 = BatchNormalization()\n",
    "        self.a2 = Activation('relu')\n",
    "        self.p2 = MaxPool2D(pool_size=(3, 3), strides=2)\n",
    "\n",
    "        self.c3 = Conv2D(filters=384, kernel_size=(3, 3), padding='same',\n",
    "                         activation='relu')\n",
    "                         \n",
    "        self.c4 = Conv2D(filters=384, kernel_size=(3, 3), padding='same',\n",
    "                         activation='relu')\n",
    "                         \n",
    "        self.c5 = Conv2D(filters=256, kernel_size=(3, 3), padding='same',\n",
    "                         activation='relu')\n",
    "        self.p3 = MaxPool2D(pool_size=(3, 3), strides=2)\n",
    "\n",
    "        self.flatten = Flatten()\n",
    "        self.f1 = Dense(2048, activation='relu')\n",
    "        self.d1 = Dropout(0.5)\n",
    "        self.f2 = Dense(2048, activation='relu')\n",
    "        self.d2 = Dropout(0.5)\n",
    "        self.f3 = Dense(10, activation='softmax')\n"
   ]
  },
  {
   "cell_type": "markdown",
   "metadata": {},
   "source": [
    "#### VGGnet\n"
   ]
  },
  {
   "cell_type": "code",
   "execution_count": null,
   "metadata": {},
   "outputs": [],
   "source": [
    "class VGG16(Model):\n",
    "    def __init__(self):\n",
    "        super(VGG16, self).__init__()\n",
    "        self.c1 = Conv2D(filters=64, kernel_size=(3, 3), padding='same')  # 卷积层1\n",
    "        self.b1 = BatchNormalization()  # BN层1\n",
    "        self.a1 = Activation('relu')  # 激活层1\n",
    "        self.c2 = Conv2D(filters=64, kernel_size=(3, 3), padding='same', )\n",
    "        self.b2 = BatchNormalization()  # BN层1\n",
    "        self.a2 = Activation('relu')  # 激活层1\n",
    "        self.p1 = MaxPool2D(pool_size=(2, 2), strides=2, padding='same')\n",
    "        self.d1 = Dropout(0.2)  # dropout层\n",
    "\n",
    "        self.c3 = Conv2D(filters=128, kernel_size=(3, 3), padding='same')\n",
    "        self.b3 = BatchNormalization()  # BN层1\n",
    "        self.a3 = Activation('relu')  # 激活层1\n",
    "        self.c4 = Conv2D(filters=128, kernel_size=(3, 3), padding='same')\n",
    "        self.b4 = BatchNormalization()  # BN层1\n",
    "        self.a4 = Activation('relu')  # 激活层1\n",
    "        self.p2 = MaxPool2D(pool_size=(2, 2), strides=2, padding='same')\n",
    "        self.d2 = Dropout(0.2)  # dropout层\n",
    "\n",
    "        self.c5 = Conv2D(filters=256, kernel_size=(3, 3), padding='same')\n",
    "        self.b5 = BatchNormalization()  # BN层1\n",
    "        self.a5 = Activation('relu')  # 激活层1\n",
    "        self.c6 = Conv2D(filters=256, kernel_size=(3, 3), padding='same')\n",
    "        self.b6 = BatchNormalization()  # BN层1\n",
    "        self.a6 = Activation('relu')  # 激活层1\n",
    "        self.c7 = Conv2D(filters=256, kernel_size=(3, 3), padding='same')\n",
    "        self.b7 = BatchNormalization()\n",
    "        self.a7 = Activation('relu')\n",
    "        self.p3 = MaxPool2D(pool_size=(2, 2), strides=2, padding='same')\n",
    "        self.d3 = Dropout(0.2)\n",
    "\n",
    "        self.c8 = Conv2D(filters=512, kernel_size=(3, 3), padding='same')\n",
    "        self.b8 = BatchNormalization()  # BN层1\n",
    "        self.a8 = Activation('relu')  # 激活层1\n",
    "        self.c9 = Conv2D(filters=512, kernel_size=(3, 3), padding='same')\n",
    "        self.b9 = BatchNormalization()  # BN层1\n",
    "        self.a9 = Activation('relu')  # 激活层1\n",
    "        self.c10 = Conv2D(filters=512, kernel_size=(3, 3), padding='same')\n",
    "        self.b10 = BatchNormalization()\n",
    "        self.a10 = Activation('relu')\n",
    "        self.p4 = MaxPool2D(pool_size=(2, 2), strides=2, padding='same')\n",
    "        self.d4 = Dropout(0.2)\n",
    "\n",
    "        self.c11 = Conv2D(filters=512, kernel_size=(3, 3), padding='same')\n",
    "        self.b11 = BatchNormalization()  # BN层1\n",
    "        self.a11 = Activation('relu')  # 激活层1\n",
    "        self.c12 = Conv2D(filters=512, kernel_size=(3, 3), padding='same')\n",
    "        self.b12 = BatchNormalization()  # BN层1\n",
    "        self.a12 = Activation('relu')  # 激活层1\n",
    "        self.c13 = Conv2D(filters=512, kernel_size=(3, 3), padding='same')\n",
    "        self.b13 = BatchNormalization()\n",
    "        self.a13 = Activation('relu')\n",
    "        self.p5 = MaxPool2D(pool_size=(2, 2), strides=2, padding='same')\n",
    "        self.d5 = Dropout(0.2)\n",
    "\n",
    "        self.flatten = Flatten()\n",
    "        self.f1 = Dense(512, activation='relu')\n",
    "        self.d6 = Dropout(0.2)\n",
    "        self.f2 = Dense(512, activation='relu')\n",
    "        self.d7 = Dropout(0.2)\n",
    "        self.f3 = Dense(10, activation='softmax')"
   ]
  },
  {
   "cell_type": "code",
   "execution_count": null,
   "metadata": {},
   "outputs": [],
   "source": [
    "#### inception\n",
    "class ConvBNRelu(Model):\n",
    "    def __init__(self, ch, kernelsz=3, strides=1, padding='same'):\n",
    "        super(ConvBNRelu, self).__init__()\n",
    "        self.model = tf.keras.models.Sequential([\n",
    "            Conv2D(ch, kernelsz, strides=strides, padding=padding),\n",
    "            BatchNormalization(),\n",
    "            Activation('relu')\n",
    "        ])\n",
    "\n",
    "    def call(self, x):\n",
    "        x = self.model(x, training=False) #在training=False时，BN通过整个训练集计算均值、方差去做批归一化，training=True时，通过当前batch的均值、方差去做批归一化。推理时 training=False效果好\n",
    "        return x\n",
    "class InceptionBlk(Model):\n",
    "    def __init__(self, ch, strides=1):\n",
    "        super(InceptionBlk, self).__init__()\n",
    "        self.ch = ch\n",
    "        self.strides = strides\n",
    "        self.c1 = ConvBNRelu(ch, kernelsz=1, strides=strides)\n",
    "        self.c2_1 = ConvBNRelu(ch, kernelsz=1, strides=strides)\n",
    "        self.c2_2 = ConvBNRelu(ch, kernelsz=3, strides=1)\n",
    "        self.c3_1 = ConvBNRelu(ch, kernelsz=1, strides=strides)\n",
    "        self.c3_2 = ConvBNRelu(ch, kernelsz=5, strides=1)\n",
    "        self.p4_1 = MaxPool2D(3, strides=1, padding='same')\n",
    "        self.c4_2 = ConvBNRelu(ch, kernelsz=1, strides=strides)"
   ]
  },
  {
   "cell_type": "code",
   "execution_count": null,
   "metadata": {},
   "outputs": [],
   "source": [
    "#### resNet jump\n",
    "class ResnetBlock(Model):\n",
    "\n",
    "    def __init__(self, filters, strides=1, residual_path=False):\n",
    "        super(ResnetBlock, self).__init__()\n",
    "        self.filters = filters\n",
    "        self.strides = strides\n",
    "        self.residual_path = residual_path\n",
    "\n",
    "        self.c1 = Conv2D(filters, (3, 3), strides=strides, padding='same', use_bias=False)\n",
    "        self.b1 = BatchNormalization()\n",
    "        self.a1 = Activation('relu')\n",
    "\n",
    "        self.c2 = Conv2D(filters, (3, 3), strides=1, padding='same', use_bias=False)\n",
    "        self.b2 = BatchNormalization()\n",
    "\n",
    "        # residual_path为True时，对输入进行下采样，即用1x1的卷积核做卷积操作，保证x能和F(x)维度相同，顺利相加\n",
    "        if residual_path:\n",
    "            self.down_c1 = Conv2D(filters, (1, 1), strides=strides, padding='same', use_bias=False)\n",
    "            self.down_b1 = BatchNormalization()\n",
    "        \n",
    "        self.a2 = Activation('relu')"
   ]
  }
 ],
 "metadata": {
  "interpreter": {
   "hash": "78431bbffb395ae8df1eebd6ffd005e9beb8cf9ce4bfad9a94a8db8fdf3c3aa2"
  },
  "kernelspec": {
   "display_name": "Python 3.9.12 ('base')",
   "language": "python",
   "name": "python3"
  },
  "language_info": {
   "codemirror_mode": {
    "name": "ipython",
    "version": 3
   },
   "file_extension": ".py",
   "mimetype": "text/x-python",
   "name": "python",
   "nbconvert_exporter": "python",
   "pygments_lexer": "ipython3",
   "version": "3.9.12"
  },
  "orig_nbformat": 4
 },
 "nbformat": 4,
 "nbformat_minor": 2
}
